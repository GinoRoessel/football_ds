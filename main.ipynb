{
 "cells": [
  {
   "cell_type": "code",
   "execution_count": 33,
   "id": "16a6a244",
   "metadata": {},
   "outputs": [],
   "source": [
    "import pandas as pd \n",
    "import numpy as np\n",
    "df1 = pd.read_csv(\"data/results.csv\")\n",
    "df2 = pd.read_csv(\"data/goalscorers.csv\")\n",
    "df2 =df2[df2[\"own_goal\"]==False]\n",
    "df3 = pd.read_csv(\"data/shootouts.csv\")\n",
    "df4 = pd.read_csv(\"data/former_names.csv\")"
   ]
  },
  {
   "cell_type": "code",
   "execution_count": 34,
   "id": "e7de6e2e",
   "metadata": {},
   "outputs": [],
   "source": [
    "df1[\"goal_difference\"]=df1[\"home_score\"]-df1[\"away_score\"]\n",
    "conditions = [\n",
    "    df1[\"goal_difference\"] > 0,   \n",
    "    df1[\"goal_difference\"] < 0    \n",
    "]\n",
    "choices = [\n",
    "    df1[\"home_team\"],            \n",
    "    df1[\"away_team\"]             \n",
    "]\n",
    "df1[\"winner\"] = np.select(conditions, choices, default=\"Draw\")\n"
   ]
  },
  {
   "cell_type": "markdown",
   "id": "bbef4630",
   "metadata": {},
   "source": [
    "# OVERVIEW"
   ]
  },
  {
   "cell_type": "markdown",
   "id": "1a41e2be",
   "metadata": {},
   "source": [
    "get an overview of the results file"
   ]
  },
  {
   "cell_type": "code",
   "execution_count": 3,
   "id": "5facd16a",
   "metadata": {},
   "outputs": [
    {
     "name": "stdout",
     "output_type": "stream",
     "text": [
      "         date home_team away_team  home_score  away_score tournament     city  \\\n",
      "0  1872-11-30  Scotland   England           0           0   Friendly  Glasgow   \n",
      "1  1873-03-08   England  Scotland           4           2   Friendly   London   \n",
      "2  1874-03-07  Scotland   England           2           1   Friendly  Glasgow   \n",
      "3  1875-03-06   England  Scotland           2           2   Friendly   London   \n",
      "4  1876-03-04  Scotland   England           3           0   Friendly  Glasgow   \n",
      "\n",
      "    country  neutral  \n",
      "0  Scotland    False  \n",
      "1   England    False  \n",
      "2  Scotland    False  \n",
      "3   England    False  \n",
      "4  Scotland    False  \n"
     ]
    }
   ],
   "source": [
    "print(df1.head())"
   ]
  },
  {
   "cell_type": "markdown",
   "id": "d704d3d9",
   "metadata": {},
   "source": [
    "get an overview of scorers"
   ]
  },
  {
   "cell_type": "code",
   "execution_count": 4,
   "id": "9f196c75",
   "metadata": {},
   "outputs": [
    {
     "name": "stdout",
     "output_type": "stream",
     "text": [
      "         date  home_team away_team       team            scorer  minute  \\\n",
      "0  1916-07-02      Chile   Uruguay    Uruguay   José Piendibene    44.0   \n",
      "1  1916-07-02      Chile   Uruguay    Uruguay  Isabelino Gradín    55.0   \n",
      "2  1916-07-02      Chile   Uruguay    Uruguay  Isabelino Gradín    70.0   \n",
      "3  1916-07-02      Chile   Uruguay    Uruguay   José Piendibene    75.0   \n",
      "4  1916-07-06  Argentina     Chile  Argentina     Alberto Ohaco     2.0   \n",
      "\n",
      "   own_goal  penalty  \n",
      "0     False    False  \n",
      "1     False    False  \n",
      "2     False    False  \n",
      "3     False    False  \n",
      "4     False    False  \n"
     ]
    }
   ],
   "source": [
    "print(df2.head())\n"
   ]
  },
  {
   "cell_type": "markdown",
   "id": "e7706e0c",
   "metadata": {},
   "source": [
    "get an overview of shooutouts"
   ]
  },
  {
   "cell_type": "code",
   "execution_count": 5,
   "id": "ca0ff983",
   "metadata": {},
   "outputs": [
    {
     "name": "stdout",
     "output_type": "stream",
     "text": [
      "         date    home_team         away_team       winner first_shooter\n",
      "0  1967-08-22        India            Taiwan       Taiwan           NaN\n",
      "1  1971-11-14  South Korea  Vietnam Republic  South Korea           NaN\n",
      "2  1972-05-07  South Korea              Iraq         Iraq           NaN\n",
      "3  1972-05-17     Thailand       South Korea  South Korea           NaN\n",
      "4  1972-05-19     Thailand          Cambodia     Thailand           NaN\n"
     ]
    }
   ],
   "source": [
    "print(df3.head())"
   ]
  },
  {
   "cell_type": "markdown",
   "id": "0c6e661e",
   "metadata": {},
   "source": [
    "get an overview of former names"
   ]
  },
  {
   "cell_type": "code",
   "execution_count": 6,
   "id": "523b636c",
   "metadata": {},
   "outputs": [
    {
     "name": "stdout",
     "output_type": "stream",
     "text": [
      "          current                former  start_date    end_date\n",
      "0           Benin               Dahomey  1959-11-08  1975-11-30\n",
      "1    Burkina Faso           Upper Volta  1960-04-14  1984-08-04\n",
      "2         Curaçao  Netherlands Antilles  1957-03-03  2010-10-10\n",
      "3  Czechoslovakia               Bohemia  1903-04-05  1919-01-01\n",
      "4  Czechoslovakia   Bohemia and Moravia  1939-01-01  1945-05-01\n"
     ]
    }
   ],
   "source": [
    "print(df4.head())"
   ]
  },
  {
   "cell_type": "markdown",
   "id": "e7bad3e3",
   "metadata": {},
   "source": [
    "# RESULTS"
   ]
  },
  {
   "cell_type": "markdown",
   "id": "613252a0",
   "metadata": {},
   "source": [
    "average_goals home/away"
   ]
  },
  {
   "cell_type": "code",
   "execution_count": 7,
   "id": "55448704",
   "metadata": {},
   "outputs": [
    {
     "name": "stdout",
     "output_type": "stream",
     "text": [
      "1.7578739753045836\n",
      "1.181743471739979\n"
     ]
    }
   ],
   "source": [
    "average_home_score=df1[\"home_score\"].mean()\n",
    "print(average_home_score)\n",
    "average_away_score=df1[\"away_score\"].mean()\n",
    "print(average_away_score)"
   ]
  },
  {
   "cell_type": "markdown",
   "id": "1e069b40",
   "metadata": {},
   "source": [
    "average difference"
   ]
  },
  {
   "cell_type": "code",
   "execution_count": 8,
   "id": "857ac12e",
   "metadata": {},
   "outputs": [
    {
     "name": "stdout",
     "output_type": "stream",
     "text": [
      "0.5761305035646046\n"
     ]
    }
   ],
   "source": [
    "df1[\"goal_difference\"]=df1[\"home_score\"]-df1[\"away_score\"]\n",
    "average_difference=df1[\"goal_difference\"].mean()\n",
    "print(average_difference)"
   ]
  },
  {
   "cell_type": "markdown",
   "id": "8537ed30",
   "metadata": {},
   "source": [
    "### checking rates home/away/draw"
   ]
  },
  {
   "cell_type": "markdown",
   "id": "6e30de07",
   "metadata": {},
   "source": [
    "home winrate"
   ]
  },
  {
   "cell_type": "code",
   "execution_count": 9,
   "id": "cf629c8e",
   "metadata": {},
   "outputs": [
    {
     "name": "stdout",
     "output_type": "stream",
     "text": [
      "0.4903950855710558\n"
     ]
    }
   ],
   "source": [
    "home_wins=df1[df1[\"goal_difference\"]>0]\n",
    "home_winrate=len(home_wins)/len(df1)\n",
    "print(home_winrate)"
   ]
  },
  {
   "cell_type": "markdown",
   "id": "e1ae9a87",
   "metadata": {},
   "source": [
    "away winrate"
   ]
  },
  {
   "cell_type": "code",
   "execution_count": 10,
   "id": "de486925",
   "metadata": {},
   "outputs": [
    {
     "name": "stdout",
     "output_type": "stream",
     "text": [
      "0.2823536663037002\n"
     ]
    }
   ],
   "source": [
    "away_wins=df1[df1[\"goal_difference\"]<0]\n",
    "away_winrate=len(away_wins)/len(df1)\n",
    "print(away_winrate)"
   ]
  },
  {
   "cell_type": "markdown",
   "id": "36ba2c07",
   "metadata": {},
   "source": [
    "draw rate"
   ]
  },
  {
   "cell_type": "code",
   "execution_count": 11,
   "id": "b0c82adc",
   "metadata": {},
   "outputs": [
    {
     "name": "stdout",
     "output_type": "stream",
     "text": [
      "0.22725124812524397\n"
     ]
    }
   ],
   "source": [
    "draws=df1[df1[\"goal_difference\"]==0]\n",
    "draw_rate=len(draws)/len(df1)\n",
    "print(draw_rate)"
   ]
  },
  {
   "cell_type": "markdown",
   "id": "3d688be1",
   "metadata": {},
   "source": [
    "### checking teams sorted by goals scored"
   ]
  },
  {
   "cell_type": "markdown",
   "id": "31f87d2b",
   "metadata": {},
   "source": [
    "teams sorted by home goals scored"
   ]
  },
  {
   "cell_type": "code",
   "execution_count": 12,
   "id": "67d8233a",
   "metadata": {},
   "outputs": [
    {
     "name": "stdout",
     "output_type": "stream",
     "text": [
      "home_team\n",
      "Brazil         1495\n",
      "Germany        1372\n",
      "Argentina      1337\n",
      "England        1247\n",
      "Sweden         1236\n",
      "Mexico         1197\n",
      "Netherlands    1129\n",
      "Hungary        1127\n",
      "France         1111\n",
      "South Korea    1106\n",
      "Name: home_score, dtype: int64\n"
     ]
    }
   ],
   "source": [
    "def scored_at_home(dataframe):\n",
    "    teams_by_goals_scored_at_home=dataframe.groupby(\"home_team\")[\"home_score\"].sum()\n",
    "    teams_by_goals_scored_at_home = teams_by_goals_scored_at_home.sort_values(ascending=False)\n",
    "    print(teams_by_goals_scored_at_home.head(10))\n",
    "\n",
    "scored_at_home(df1)\n"
   ]
  },
  {
   "cell_type": "markdown",
   "id": "989afbfb",
   "metadata": {},
   "source": [
    "teams sorted by home goals scored against xxx"
   ]
  },
  {
   "cell_type": "code",
   "execution_count": 13,
   "id": "85d54235",
   "metadata": {},
   "outputs": [
    {
     "name": "stdout",
     "output_type": "stream",
     "text": [
      "home_team\n",
      "Denmark        103\n",
      "Norway          79\n",
      "Finland         61\n",
      "Hungary         49\n",
      "Germany         44\n",
      "Switzerland     31\n",
      "Austria         30\n",
      "Netherlands     26\n",
      "Italy           21\n",
      "Spain           21\n",
      "Name: home_score, dtype: int64\n"
     ]
    }
   ],
   "source": [
    "def scored_at_home_against(dataframe,x):\n",
    "    df_at_home_against_x=dataframe[dataframe[\"away_team\"]==x]\n",
    "    scored_at_home(df_at_home_against_x)\n",
    "\n",
    "scored_at_home_against(df1,\"Sweden\")"
   ]
  },
  {
   "cell_type": "markdown",
   "id": "000ae8e4",
   "metadata": {},
   "source": [
    "teams sorted by total goals scored"
   ]
  },
  {
   "cell_type": "code",
   "execution_count": 14,
   "id": "c7d92a95",
   "metadata": {},
   "outputs": [
    {
     "name": "stdout",
     "output_type": "stream",
     "text": [
      "England        2372.0\n",
      "Germany        2300.0\n",
      "Brazil         2290.0\n",
      "Sweden         2160.0\n",
      "Argentina      2007.0\n",
      "Hungary        2002.0\n",
      "Netherlands    1831.0\n",
      "South Korea    1783.0\n",
      "Mexico         1752.0\n",
      "France         1699.0\n",
      "dtype: float64\n"
     ]
    }
   ],
   "source": [
    "def scored_overall(dataframe):\n",
    "    teams_by_goals_scored_at_home=dataframe.groupby(\"home_team\")[\"home_score\"].sum()\n",
    "    teams_by_goals_scored_away=dataframe.groupby(\"away_team\")[\"away_score\"].sum()\n",
    "    teams_by_total_goals=teams_by_goals_scored_at_home.add(teams_by_goals_scored_away, fill_value=0)\n",
    "    teams_by_total_goals = teams_by_total_goals.sort_values(ascending=False)\n",
    "    print(teams_by_total_goals.head(10))\n",
    "\n",
    "scored_overall(df1)"
   ]
  },
  {
   "cell_type": "markdown",
   "id": "e73d6998",
   "metadata": {},
   "source": [
    "# GOALSCORERS"
   ]
  },
  {
   "cell_type": "markdown",
   "id": "93203547",
   "metadata": {},
   "source": [
    "possible questions:\n",
    "- most goals scored Y\n",
    "- most goals for Germany Y\n",
    "- most last ten minutes goals Y\n",
    "- most decider goals Y\n",
    "- most own goals\n",
    "- most goals against x\n",
    "- most penalty to goal ratio\n",
    "- most goals scored in the same minute by one player\n",
    "- in which minute are the most goals scored\n",
    "- team with most 100+ Scorers\n",
    "- most hattricks\n",
    "- most \"useless\" goals (already 2+ goals up)\n",
    "- most goals in the year ...\n",
    "- most goals in the month ...\n",
    "- most goals at dates like 01.01., 02.02., ..."
   ]
  },
  {
   "cell_type": "markdown",
   "id": "bad45790",
   "metadata": {},
   "source": [
    "## most goals scored"
   ]
  },
  {
   "cell_type": "markdown",
   "id": "6043177e",
   "metadata": {},
   "source": [
    "total goals"
   ]
  },
  {
   "cell_type": "code",
   "execution_count": 31,
   "id": "6a5f4897",
   "metadata": {},
   "outputs": [
    {
     "name": "stdout",
     "output_type": "stream",
     "text": [
      "scorer\n",
      "Cristiano Ronaldo      108\n",
      "Robert Lewandowski      63\n",
      "Romelu Lukaku           60\n",
      "Harry Kane              58\n",
      "Lionel Messi            55\n",
      "Edin Džeko              50\n",
      "Ali Daei                49\n",
      "Miroslav Klose          48\n",
      "Aleksandar Mitrović     47\n",
      "Carlos Ruiz             47\n",
      "Name: scorer, dtype: int64\n"
     ]
    }
   ],
   "source": [
    "def goals_scored_players(dataframe):\n",
    "    goals_per_player=dataframe.groupby(\"scorer\")[\"scorer\"].count()\n",
    "    goals_per_player=goals_per_player.sort_values(ascending=False)\n",
    "    print(goals_per_player.head(10))\n",
    "\n",
    "goals_scored_players(df2)"
   ]
  },
  {
   "cell_type": "markdown",
   "id": "070c4810",
   "metadata": {},
   "source": [
    "just noticed that there are just results from tournaments and there are no friendlies at all so therefore it could be better to analyse relative values instead of absoulte values"
   ]
  },
  {
   "cell_type": "markdown",
   "id": "574eaf89",
   "metadata": {},
   "source": [
    "total goals for x"
   ]
  },
  {
   "cell_type": "code",
   "execution_count": 19,
   "id": "359be506",
   "metadata": {},
   "outputs": [
    {
     "name": "stdout",
     "output_type": "stream",
     "text": [
      "scorer\n",
      "Miroslav Klose           48\n",
      "Gerd Müller              39\n",
      "Thomas Müller            35\n",
      "Karl-Heinz Rummenigge    32\n",
      "Jürgen Klinsmann         30\n",
      "Lukas Podolski           29\n",
      "Michael Ballack          27\n",
      "Rudi Völler              26\n",
      "Timo Werner              20\n",
      "Oliver Bierhoff          19\n",
      "Name: scorer, dtype: int64\n"
     ]
    }
   ],
   "source": [
    "def goals_scored_players_for_x(dataframe,x):\n",
    "    x_dataframe=dataframe.loc[dataframe['team']==x]\n",
    "    goals_scored_players(x_dataframe)\n",
    "\n",
    "goals_scored_players_for_x(df2,\"Germany\")"
   ]
  },
  {
   "cell_type": "markdown",
   "id": "9fd780b9",
   "metadata": {},
   "source": [
    "most goals in last x min "
   ]
  },
  {
   "cell_type": "code",
   "execution_count": 26,
   "id": "32383181",
   "metadata": {},
   "outputs": [
    {
     "name": "stdout",
     "output_type": "stream",
     "text": [
      "scorer\n",
      "Damian Mori           4\n",
      "Milan Galić           3\n",
      "Clint Dempsey         3\n",
      "Toni Polster          3\n",
      "Cristiano Ronaldo     3\n",
      "Gabriel Batistuta     3\n",
      "Aleksandr Iashvili    3\n",
      "Oliver Bierhoff       3\n",
      "Haykel Guemamdia      3\n",
      "Oreste Corbatta       3\n",
      "Name: scorer, dtype: int64\n"
     ]
    }
   ],
   "source": [
    "def goals_scored_players_in_min_x(dataframe,minutes,first_or_last: bool): ##True is before that minute and False is after that\n",
    "    if first_or_last==True:\n",
    "        min_dataframe=dataframe.loc[dataframe[\"minute\"]<=minutes]\n",
    "    else:\n",
    "        min_dataframe=dataframe.loc[dataframe[\"minute\"]>=minutes]\n",
    "\n",
    "    goals_scored_players(min_dataframe)\n",
    "\n",
    "goals_scored_players_in_min_x(df2,3,True)"
   ]
  },
  {
   "cell_type": "markdown",
   "id": "5fce57e2",
   "metadata": {},
   "source": [
    "decider goals (first analysis using 2 tables)"
   ]
  },
  {
   "cell_type": "code",
   "execution_count": 36,
   "id": "ec73dbe3",
   "metadata": {},
   "outputs": [
    {
     "name": "stdout",
     "output_type": "stream",
     "text": [
      "scorer\n",
      "Cristiano Ronaldo    13\n",
      "Gareth Bale           8\n",
      "David Villa           7\n",
      "Gabriel Batistuta     7\n",
      "Gerd Müller           7\n",
      "Gerson Rodrigues      6\n",
      "Kylian Mbappé         6\n",
      "André Ayew            6\n",
      "Edinson Cavani        6\n",
      "Clint Dempsey         6\n",
      "Name: scorer, dtype: int64\n"
     ]
    }
   ],
   "source": [
    "#definition decider goal: the goal difference is exactly 1 and last goalscorer is \n",
    "#a player of the winning team\n",
    "\n",
    "#idea: search for all the last goalscorers in the goalscorer db and then checking the score of the game in the game db\n",
    "#reasons: not all games in game db are included in goalscorer db and because of the elimination of own goals the scores\n",
    "#         are not accessible in the goalscorer db\n",
    "\n",
    "\n",
    "# df_last_scorer=df2.group_by([\"date\", \"home_team\",\"away_team\"]).last()\n",
    "# df_last_scorer=df_last_scorer.reset_index()\n",
    "# df_deciders=df_last_scorer.loc[\n",
    "#     df1.loc[\n",
    "#         ...\n",
    "#     ]\n",
    "# ]\n",
    "\n",
    "#found the concept of merge\n",
    "df_last_scorer=df2.groupby([\"date\", \"home_team\",\"away_team\"]).last()\n",
    "df_decider_matches=df1.loc[abs(df1[\"goal_difference\"])==1]\n",
    "df_last_scorer=df_last_scorer.reset_index()\n",
    "df_deciders_merged=pd.merge(\n",
    "    df_decider_matches,\n",
    "    df_last_scorer,\n",
    "    on=[\"date\",\"home_team\",\"away_team\"],\n",
    "    how=\"inner\"\n",
    ")\n",
    "df_deciders_merged=df_deciders_merged.loc[\n",
    "    df_deciders_merged[\"team\"]==df_deciders_merged[\"winner\"]\n",
    "]\n",
    "\n",
    "\n",
    "goals_scored_players(df_deciders_merged)\n"
   ]
  }
 ],
 "metadata": {
  "kernelspec": {
   "display_name": "venv (3.12.3)",
   "language": "python",
   "name": "python3"
  },
  "language_info": {
   "codemirror_mode": {
    "name": "ipython",
    "version": 3
   },
   "file_extension": ".py",
   "mimetype": "text/x-python",
   "name": "python",
   "nbconvert_exporter": "python",
   "pygments_lexer": "ipython3",
   "version": "3.12.3"
  }
 },
 "nbformat": 4,
 "nbformat_minor": 5
}
